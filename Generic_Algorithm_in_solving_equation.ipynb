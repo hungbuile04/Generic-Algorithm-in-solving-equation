{
  "cells": [
    {
      "cell_type": "markdown",
      "metadata": {
        "id": "view-in-github",
        "colab_type": "text"
      },
      "source": [
        "<a href=\"https://colab.research.google.com/github/hungbuile04/Generic-Algorithm-in-solving-equation/blob/main/Generic_Algorithm_in_solving_equation.ipynb\" target=\"_parent\"><img src=\"https://colab.research.google.com/assets/colab-badge.svg\" alt=\"Open In Colab\"/></a>"
      ]
    },
    {
      "cell_type": "markdown",
      "metadata": {
        "id": "wBTLTHzIMTEW"
      },
      "source": [
        "#<font color=\"blue\">**PROJECT 1**</font>\n",
        "##<font color=\"green\"> **Topic:** Developing a Graphical Interface Program to Simulate the Application of Genetic Algorithms in Solving Equations.\n",
        "##<font color=\"navy\"> //Bùi Lê Hùng 20224994\n"
      ]
    },
    {
      "cell_type": "markdown",
      "metadata": {
        "id": "slWD9T9iNw-l"
      },
      "source": [
        "**Declaring the libraries used**"
      ]
    },
    {
      "cell_type": "code",
      "execution_count": null,
      "metadata": {
        "id": "K1l6maphIw8F"
      },
      "outputs": [],
      "source": [
        "import pandas as pd\n",
        "import numpy as np\n",
        "import matplotlib.pyplot as plt\n",
        "import seaborn as sns\n",
        "import random\n",
        "import math\n",
        "import time\n",
        "import sympy as sp\n"
      ]
    },
    {
      "cell_type": "code",
      "execution_count": null,
      "metadata": {
        "colab": {
          "base_uri": "https://localhost:8080/"
        },
        "collapsed": true,
        "id": "U3M2_mgbQEMn",
        "outputId": "da027272-e0bb-45c9-b17c-6c93682b9d19"
      },
      "outputs": [
        {
          "output_type": "stream",
          "name": "stdout",
          "text": [
            "Collecting gradio\n",
            "  Downloading gradio-5.6.0-py3-none-any.whl.metadata (16 kB)\n",
            "Collecting aiofiles<24.0,>=22.0 (from gradio)\n",
            "  Downloading aiofiles-23.2.1-py3-none-any.whl.metadata (9.7 kB)\n",
            "Requirement already satisfied: anyio<5.0,>=3.0 in /usr/local/lib/python3.10/dist-packages (from gradio) (3.7.1)\n",
            "Collecting fastapi<1.0,>=0.115.2 (from gradio)\n",
            "  Downloading fastapi-0.115.5-py3-none-any.whl.metadata (27 kB)\n",
            "Collecting ffmpy (from gradio)\n",
            "  Downloading ffmpy-0.4.0-py3-none-any.whl.metadata (2.9 kB)\n",
            "Collecting gradio-client==1.4.3 (from gradio)\n",
            "  Downloading gradio_client-1.4.3-py3-none-any.whl.metadata (7.1 kB)\n",
            "Requirement already satisfied: httpx>=0.24.1 in /usr/local/lib/python3.10/dist-packages (from gradio) (0.27.2)\n",
            "Requirement already satisfied: huggingface-hub>=0.25.1 in /usr/local/lib/python3.10/dist-packages (from gradio) (0.26.2)\n",
            "Requirement already satisfied: jinja2<4.0 in /usr/local/lib/python3.10/dist-packages (from gradio) (3.1.4)\n",
            "Collecting markupsafe~=2.0 (from gradio)\n",
            "  Downloading MarkupSafe-2.1.5-cp310-cp310-manylinux_2_17_x86_64.manylinux2014_x86_64.whl.metadata (3.0 kB)\n",
            "Requirement already satisfied: numpy<3.0,>=1.0 in /usr/local/lib/python3.10/dist-packages (from gradio) (1.26.4)\n",
            "Requirement already satisfied: orjson~=3.0 in /usr/local/lib/python3.10/dist-packages (from gradio) (3.10.11)\n",
            "Requirement already satisfied: packaging in /usr/local/lib/python3.10/dist-packages (from gradio) (24.2)\n",
            "Requirement already satisfied: pandas<3.0,>=1.0 in /usr/local/lib/python3.10/dist-packages (from gradio) (2.2.2)\n",
            "Requirement already satisfied: pillow<12.0,>=8.0 in /usr/local/lib/python3.10/dist-packages (from gradio) (11.0.0)\n",
            "Requirement already satisfied: pydantic>=2.0 in /usr/local/lib/python3.10/dist-packages (from gradio) (2.9.2)\n",
            "Collecting pydub (from gradio)\n",
            "  Downloading pydub-0.25.1-py2.py3-none-any.whl.metadata (1.4 kB)\n",
            "Collecting python-multipart==0.0.12 (from gradio)\n",
            "  Downloading python_multipart-0.0.12-py3-none-any.whl.metadata (1.9 kB)\n",
            "Requirement already satisfied: pyyaml<7.0,>=5.0 in /usr/local/lib/python3.10/dist-packages (from gradio) (6.0.2)\n",
            "Collecting ruff>=0.2.2 (from gradio)\n",
            "  Downloading ruff-0.8.0-py3-none-manylinux_2_17_x86_64.manylinux2014_x86_64.whl.metadata (25 kB)\n",
            "Collecting safehttpx<1.0,>=0.1.1 (from gradio)\n",
            "  Downloading safehttpx-0.1.1-py3-none-any.whl.metadata (4.1 kB)\n",
            "Collecting semantic-version~=2.0 (from gradio)\n",
            "  Downloading semantic_version-2.10.0-py2.py3-none-any.whl.metadata (9.7 kB)\n",
            "Collecting starlette<1.0,>=0.40.0 (from gradio)\n",
            "  Downloading starlette-0.41.3-py3-none-any.whl.metadata (6.0 kB)\n",
            "Collecting tomlkit==0.12.0 (from gradio)\n",
            "  Downloading tomlkit-0.12.0-py3-none-any.whl.metadata (2.7 kB)\n",
            "Requirement already satisfied: typer<1.0,>=0.12 in /usr/local/lib/python3.10/dist-packages (from gradio) (0.13.0)\n",
            "Requirement already satisfied: typing-extensions~=4.0 in /usr/local/lib/python3.10/dist-packages (from gradio) (4.12.2)\n",
            "Collecting uvicorn>=0.14.0 (from gradio)\n",
            "  Downloading uvicorn-0.32.1-py3-none-any.whl.metadata (6.6 kB)\n",
            "Requirement already satisfied: fsspec in /usr/local/lib/python3.10/dist-packages (from gradio-client==1.4.3->gradio) (2024.10.0)\n",
            "Collecting websockets<13.0,>=10.0 (from gradio-client==1.4.3->gradio)\n",
            "  Downloading websockets-12.0-cp310-cp310-manylinux_2_5_x86_64.manylinux1_x86_64.manylinux_2_17_x86_64.manylinux2014_x86_64.whl.metadata (6.6 kB)\n",
            "Requirement already satisfied: idna>=2.8 in /usr/local/lib/python3.10/dist-packages (from anyio<5.0,>=3.0->gradio) (3.10)\n",
            "Requirement already satisfied: sniffio>=1.1 in /usr/local/lib/python3.10/dist-packages (from anyio<5.0,>=3.0->gradio) (1.3.1)\n",
            "Requirement already satisfied: exceptiongroup in /usr/local/lib/python3.10/dist-packages (from anyio<5.0,>=3.0->gradio) (1.2.2)\n",
            "Requirement already satisfied: certifi in /usr/local/lib/python3.10/dist-packages (from httpx>=0.24.1->gradio) (2024.8.30)\n",
            "Requirement already satisfied: httpcore==1.* in /usr/local/lib/python3.10/dist-packages (from httpx>=0.24.1->gradio) (1.0.7)\n",
            "Requirement already satisfied: h11<0.15,>=0.13 in /usr/local/lib/python3.10/dist-packages (from httpcore==1.*->httpx>=0.24.1->gradio) (0.14.0)\n",
            "Requirement already satisfied: filelock in /usr/local/lib/python3.10/dist-packages (from huggingface-hub>=0.25.1->gradio) (3.16.1)\n",
            "Requirement already satisfied: requests in /usr/local/lib/python3.10/dist-packages (from huggingface-hub>=0.25.1->gradio) (2.32.3)\n",
            "Requirement already satisfied: tqdm>=4.42.1 in /usr/local/lib/python3.10/dist-packages (from huggingface-hub>=0.25.1->gradio) (4.66.6)\n",
            "Requirement already satisfied: python-dateutil>=2.8.2 in /usr/local/lib/python3.10/dist-packages (from pandas<3.0,>=1.0->gradio) (2.8.2)\n",
            "Requirement already satisfied: pytz>=2020.1 in /usr/local/lib/python3.10/dist-packages (from pandas<3.0,>=1.0->gradio) (2024.2)\n",
            "Requirement already satisfied: tzdata>=2022.7 in /usr/local/lib/python3.10/dist-packages (from pandas<3.0,>=1.0->gradio) (2024.2)\n",
            "Requirement already satisfied: annotated-types>=0.6.0 in /usr/local/lib/python3.10/dist-packages (from pydantic>=2.0->gradio) (0.7.0)\n",
            "Requirement already satisfied: pydantic-core==2.23.4 in /usr/local/lib/python3.10/dist-packages (from pydantic>=2.0->gradio) (2.23.4)\n",
            "Requirement already satisfied: click>=8.0.0 in /usr/local/lib/python3.10/dist-packages (from typer<1.0,>=0.12->gradio) (8.1.7)\n",
            "Requirement already satisfied: shellingham>=1.3.0 in /usr/local/lib/python3.10/dist-packages (from typer<1.0,>=0.12->gradio) (1.5.4)\n",
            "Requirement already satisfied: rich>=10.11.0 in /usr/local/lib/python3.10/dist-packages (from typer<1.0,>=0.12->gradio) (13.9.4)\n",
            "Requirement already satisfied: six>=1.5 in /usr/local/lib/python3.10/dist-packages (from python-dateutil>=2.8.2->pandas<3.0,>=1.0->gradio) (1.16.0)\n",
            "Requirement already satisfied: markdown-it-py>=2.2.0 in /usr/local/lib/python3.10/dist-packages (from rich>=10.11.0->typer<1.0,>=0.12->gradio) (3.0.0)\n",
            "Requirement already satisfied: pygments<3.0.0,>=2.13.0 in /usr/local/lib/python3.10/dist-packages (from rich>=10.11.0->typer<1.0,>=0.12->gradio) (2.18.0)\n",
            "Requirement already satisfied: charset-normalizer<4,>=2 in /usr/local/lib/python3.10/dist-packages (from requests->huggingface-hub>=0.25.1->gradio) (3.4.0)\n",
            "Requirement already satisfied: urllib3<3,>=1.21.1 in /usr/local/lib/python3.10/dist-packages (from requests->huggingface-hub>=0.25.1->gradio) (2.2.3)\n",
            "Requirement already satisfied: mdurl~=0.1 in /usr/local/lib/python3.10/dist-packages (from markdown-it-py>=2.2.0->rich>=10.11.0->typer<1.0,>=0.12->gradio) (0.1.2)\n",
            "Downloading gradio-5.6.0-py3-none-any.whl (57.1 MB)\n",
            "\u001b[2K   \u001b[90m━━━━━━━━━━━━━━━━━━━━━━━━━━━━━━━━━━━━━━━━\u001b[0m \u001b[32m57.1/57.1 MB\u001b[0m \u001b[31m15.7 MB/s\u001b[0m eta \u001b[36m0:00:00\u001b[0m\n",
            "\u001b[?25hDownloading gradio_client-1.4.3-py3-none-any.whl (320 kB)\n",
            "\u001b[2K   \u001b[90m━━━━━━━━━━━━━━━━━━━━━━━━━━━━━━━━━━━━━━━━\u001b[0m \u001b[32m320.1/320.1 kB\u001b[0m \u001b[31m23.5 MB/s\u001b[0m eta \u001b[36m0:00:00\u001b[0m\n",
            "\u001b[?25hDownloading python_multipart-0.0.12-py3-none-any.whl (23 kB)\n",
            "Downloading tomlkit-0.12.0-py3-none-any.whl (37 kB)\n",
            "Downloading aiofiles-23.2.1-py3-none-any.whl (15 kB)\n",
            "Downloading fastapi-0.115.5-py3-none-any.whl (94 kB)\n",
            "\u001b[2K   \u001b[90m━━━━━━━━━━━━━━━━━━━━━━━━━━━━━━━━━━━━━━━━\u001b[0m \u001b[32m94.9/94.9 kB\u001b[0m \u001b[31m8.3 MB/s\u001b[0m eta \u001b[36m0:00:00\u001b[0m\n",
            "\u001b[?25hDownloading MarkupSafe-2.1.5-cp310-cp310-manylinux_2_17_x86_64.manylinux2014_x86_64.whl (25 kB)\n",
            "Downloading ruff-0.8.0-py3-none-manylinux_2_17_x86_64.manylinux2014_x86_64.whl (11.1 MB)\n",
            "\u001b[2K   \u001b[90m━━━━━━━━━━━━━━━━━━━━━━━━━━━━━━━━━━━━━━━━\u001b[0m \u001b[32m11.1/11.1 MB\u001b[0m \u001b[31m79.1 MB/s\u001b[0m eta \u001b[36m0:00:00\u001b[0m\n",
            "\u001b[?25hDownloading safehttpx-0.1.1-py3-none-any.whl (8.4 kB)\n",
            "Downloading semantic_version-2.10.0-py2.py3-none-any.whl (15 kB)\n",
            "Downloading starlette-0.41.3-py3-none-any.whl (73 kB)\n",
            "\u001b[2K   \u001b[90m━━━━━━━━━━━━━━━━━━━━━━━━━━━━━━━━━━━━━━━━\u001b[0m \u001b[32m73.2/73.2 kB\u001b[0m \u001b[31m6.4 MB/s\u001b[0m eta \u001b[36m0:00:00\u001b[0m\n",
            "\u001b[?25hDownloading uvicorn-0.32.1-py3-none-any.whl (63 kB)\n",
            "\u001b[2K   \u001b[90m━━━━━━━━━━━━━━━━━━━━━━━━━━━━━━━━━━━━━━━━\u001b[0m \u001b[32m63.8/63.8 kB\u001b[0m \u001b[31m4.7 MB/s\u001b[0m eta \u001b[36m0:00:00\u001b[0m\n",
            "\u001b[?25hDownloading ffmpy-0.4.0-py3-none-any.whl (5.8 kB)\n",
            "Downloading pydub-0.25.1-py2.py3-none-any.whl (32 kB)\n",
            "Downloading websockets-12.0-cp310-cp310-manylinux_2_5_x86_64.manylinux1_x86_64.manylinux_2_17_x86_64.manylinux2014_x86_64.whl (130 kB)\n",
            "\u001b[2K   \u001b[90m━━━━━━━━━━━━━━━━━━━━━━━━━━━━━━━━━━━━━━━━\u001b[0m \u001b[32m130.2/130.2 kB\u001b[0m \u001b[31m12.0 MB/s\u001b[0m eta \u001b[36m0:00:00\u001b[0m\n",
            "\u001b[?25hInstalling collected packages: pydub, websockets, uvicorn, tomlkit, semantic-version, ruff, python-multipart, markupsafe, ffmpy, aiofiles, starlette, safehttpx, gradio-client, fastapi, gradio\n",
            "  Attempting uninstall: markupsafe\n",
            "    Found existing installation: MarkupSafe 3.0.2\n",
            "    Uninstalling MarkupSafe-3.0.2:\n",
            "      Successfully uninstalled MarkupSafe-3.0.2\n",
            "Successfully installed aiofiles-23.2.1 fastapi-0.115.5 ffmpy-0.4.0 gradio-5.6.0 gradio-client-1.4.3 markupsafe-2.1.5 pydub-0.25.1 python-multipart-0.0.12 ruff-0.8.0 safehttpx-0.1.1 semantic-version-2.10.0 starlette-0.41.3 tomlkit-0.12.0 uvicorn-0.32.1 websockets-12.0\n"
          ]
        }
      ],
      "source": [
        "!pip install gradio\n",
        "import gradio as gr"
      ]
    },
    {
      "cell_type": "markdown",
      "source": [
        "**Environment variables**"
      ],
      "metadata": {
        "id": "rJYZiU74NYmW"
      }
    },
    {
      "cell_type": "code",
      "source": [
        "POPULATION_SIZE = 100\n",
        "MUTATION_RATE = 0.03\n",
        "CROSSOVER_RATE = 0.8\n",
        "GENERATIONS = 60"
      ],
      "metadata": {
        "id": "05XxEnnoNda3"
      },
      "execution_count": null,
      "outputs": []
    },
    {
      "cell_type": "markdown",
      "source": [
        "**Init population**"
      ],
      "metadata": {
        "id": "EjJbUDJCMb_i"
      }
    },
    {
      "cell_type": "code",
      "source": [
        "def generate_population(lowerBound, upperBound):\n",
        "    population = np.random.uniform(lowerBound, upperBound, POPULATION_SIZE)\n",
        "    return population.tolist()\n",
        "print(generate_population(-10,10))"
      ],
      "metadata": {
        "id": "7zh7FU7lMcsB",
        "colab": {
          "base_uri": "https://localhost:8080/"
        },
        "outputId": "1eb5cc5a-265a-4f51-e1d2-1baf836b446a"
      },
      "execution_count": null,
      "outputs": [
        {
          "output_type": "stream",
          "name": "stdout",
          "text": [
            "[9.834676784405818, 4.664736641182966, 2.561862094891165, 9.70324416507501, 1.7379848388825394, 3.4091473703620263, -9.387412125167911, -3.0037437155221003, 0.36685366276472386, 9.579248336843975, 5.769577282469314, -1.2297110829633908, -9.002085885029782, 3.1096913490733726, -9.106001309197541, 0.48521567491589757, -5.130988095050684, -7.717989586971756, -0.9950098169441084, -0.8535871672873636, 2.1573929563352046, 5.084354576378775, -9.417486470083755, -4.260624019347892, -5.498021917642443, -1.9939838295560168, -8.576813135929385, -0.8604679869668814, 2.2887924360396923, 7.241602468727201, 3.2519410332669434, 3.5900947221885797, 8.65941072940263, -8.310460049663371, -1.188773161072021, 8.012162645777277, 3.3636716321059783, -9.692661963041978, 3.2322537204431576, 8.442027919552942, 3.023173746501337, -2.0289247942466364, -0.5447678438453458, 4.122273107752637, -1.2347139229154358, -9.618000971424511, 9.955851493231972, 6.842852076538929, -1.160142840839855, -2.3725287156538055, -3.2213471239472025, 3.4189753161334906, 7.507192313121706, -0.9429874964458396, -7.222319056721897, 6.756430494230642, -4.262401127536924, 3.665841247533791, -9.532043265532042, 1.9481357483835318, -0.4549193282325028, 6.37086690637075, -6.389981651436543, -5.223930458337636, 2.1959336504037132, 6.985573067612222, 2.1607448614832805, -3.2537446668826187, 7.028633790426959, 2.14160274120977, -7.147049326535826, 3.400109828505842, 5.0174091346479734, 7.737976461826371, -9.709163664315613, 7.47578340778681, -5.398445733721, 6.415061505750948, 0.6692929158890397, -7.009352311308092, -5.128584615620415, 0.7347399224102684, -7.135035675300278, -6.415435333753637, -8.273736912257405, 8.669701394361699, -7.6608850259660315, 6.237831104455445, -0.4273748356129232, -5.94089485352778, 3.1741855682209668, -4.957502045953335, -1.1912498489582326, 1.646761208827332, 8.50458521402889, 3.7773803113836166, 7.169080781415019, 3.9406913512819557, 1.9394787869972596, -7.048480428123884]\n"
          ]
        }
      ]
    },
    {
      "cell_type": "markdown",
      "metadata": {
        "id": "-SejJwSjbknp"
      },
      "source": [
        "**Calculate fitness**"
      ]
    },
    {
      "cell_type": "code",
      "execution_count": null,
      "metadata": {
        "id": "4dzHA8DHbXz1",
        "colab": {
          "base_uri": "https://localhost:8080/"
        },
        "outputId": "9e17b834-2ecb-4465-8d16-c0870b67abcd"
      },
      "outputs": [
        {
          "output_type": "stream",
          "name": "stdout",
          "text": [
            "Fitness: 10.1143903065628\n"
          ]
        }
      ],
      "source": [
        "import sympy as sp\n",
        "\n",
        "def calculate_fitness(equation, value):\n",
        "    \"\"\"\n",
        "    Parse the input equation using SymPy and calculate the fitness.\n",
        "\n",
        "    Args:\n",
        "        equation (str): The equation in string format (e.g., \"x^2 + 3x - 5 = 0\").\n",
        "        value (float): The value to substitute for the variable x.\n",
        "\n",
        "    Returns:\n",
        "        float: The fitness value (lower is better).\n",
        "    \"\"\"\n",
        "    try:\n",
        "        # Create the symbol x\n",
        "        x = sp.Symbol('x')\n",
        "\n",
        "        # Replace \"^\" with \"**\" to correctly interpret exponents\n",
        "        equation = equation.replace(\"^\", \"**\")\n",
        "\n",
        "        if \"=\" in equation:\n",
        "            # Split the equation into left and right sides\n",
        "            left_side, right_side = equation.split(\"=\", 1)\n",
        "\n",
        "            # Convert both sides to SymPy expressions\n",
        "            left_expr = sp.sympify(left_side)\n",
        "            right_expr = sp.sympify(right_side)\n",
        "\n",
        "            # Calculate fitness as the absolute difference between the two sides\n",
        "            fitness = abs((left_expr - right_expr).subs(x, value))\n",
        "        else:\n",
        "            # Treat the input as a single expression if there's no \"=\"\n",
        "            expression = sp.sympify(equation)\n",
        "            fitness = abs(expression.subs(x, value))\n",
        "\n",
        "    except (sp.SympifyError, TypeError, ValueError) as e:\n",
        "        print(f\"Error while parsing or evaluating the equation: {e}\")\n",
        "        # Assign a high fitness value in case of errors\n",
        "        fitness = float('inf')\n",
        "\n",
        "    return fitness\n",
        "\n",
        "# Test\n",
        "equation = \"x-1=2\"\n",
        "value = -7.114390306562845\n",
        "fitness = calculate_fitness(equation, value)\n",
        "print(f\"Fitness: {fitness}\")\n"
      ]
    },
    {
      "cell_type": "markdown",
      "source": [
        "**Crossover**"
      ],
      "metadata": {
        "id": "n7Wedl1VOKGz"
      }
    },
    {
      "cell_type": "code",
      "source": [
        "def generate_random_coef():\n",
        "  \"\"\"Generates a random float between 0 and 1 (exclusive) using NumPy.\"\"\"\n",
        "  while True:\n",
        "    random_number = np.random.rand()\n",
        "    if random_number != 0 and random_number != 1:\n",
        "      return random_number\n",
        "\n",
        "def select_parents(population, fitness):\n",
        "    # Invert fitness values to prioritize values closer to 0\n",
        "    inverted_fitness = [1 / (f + 1e-10) for f in fitness]  # Add a small epsilon to avoid division by zero\n",
        "    total_inverted_fitness = sum(inverted_fitness)\n",
        "\n",
        "    # Perform roulette wheel selection based on inverted fitness\n",
        "    pick = np.random.uniform(0, total_inverted_fitness)\n",
        "    current = 0\n",
        "    for i in range(len(population)):\n",
        "        current += inverted_fitness[i]\n",
        "        if current > pick:\n",
        "            return population[i]\n",
        "\n",
        "def crossover(parent1, parent2):\n",
        "    if random.random() < CROSSOVER_RATE:\n",
        "        crossover_point = generate_random_coef()\n",
        "        if(parent1 > parent2): parent1, parent2 = parent2, parent1\n",
        "        child1 = parent1*crossover_point + parent2*(1-crossover_point)\n",
        "        child2 = parent1*(1-crossover_point) + parent2*crossover_point\n",
        "        return child1, child2\n",
        "    else:\n",
        "        child1 = parent1\n",
        "        child2 = parent2\n",
        "    return child1, child2\n",
        "\n",
        "#Test\n",
        "parent1 = 1\n",
        "parent2 = 2\n",
        "child1, child2 = crossover(parent1, parent2)\n",
        "print(child1, child2)\n"
      ],
      "metadata": {
        "id": "InXHcjPRONin",
        "colab": {
          "base_uri": "https://localhost:8080/"
        },
        "outputId": "94378dde-fefa-41b4-ac2e-2b8d63e50fa5"
      },
      "execution_count": null,
      "outputs": [
        {
          "output_type": "stream",
          "name": "stdout",
          "text": [
            "1.3768046275065897 1.6231953724934103\n"
          ]
        }
      ]
    },
    {
      "cell_type": "markdown",
      "source": [
        "**Mutation**"
      ],
      "metadata": {
        "id": "Hde9ngm-OOD7"
      }
    },
    {
      "cell_type": "code",
      "source": [
        "def mutate(genome):\n",
        "    if random.random() < MUTATION_RATE:\n",
        "        mutation = np.random.normal(0, 0.01)  # Gaussian Mutation with standard deviation = 0.01\n",
        "        if random.choice([True, False]):  # Randomly choose to increase or decrease\n",
        "          return genome + mutation\n",
        "        else:\n",
        "          return genome - mutation\n",
        "    return genome"
      ],
      "metadata": {
        "id": "o1g5u9WQORHf"
      },
      "execution_count": null,
      "outputs": []
    },
    {
      "cell_type": "markdown",
      "source": [
        "**Genetic algorithm**"
      ],
      "metadata": {
        "id": "HGlq_qjiORzw"
      }
    },
    {
      "cell_type": "code",
      "source": [
        "from concurrent.futures import ThreadPoolExecutor\n",
        "\n",
        "def genetic_algorithm_with_plot(equation, lower_bound, upper_bound):\n",
        "    # Generate the initial population\n",
        "    population = generate_population(lower_bound, upper_bound)\n",
        "    all_populations = [population]\n",
        "    best_individual = None\n",
        "    logs = []\n",
        "    # Use ThreadPoolExecutor for parallel fitness computation\n",
        "    with ThreadPoolExecutor() as executor:\n",
        "        for generation in range(GENERATIONS):\n",
        "            # Compute fitness for each individual in parallel\n",
        "            fitness = list(executor.map(lambda individual: calculate_fitness(equation, individual), population))\n",
        "\n",
        "            new_population = []\n",
        "            for i in range(POPULATION_SIZE // 2):\n",
        "                # Select parents based on fitness\n",
        "                parent1 = select_parents(population, fitness)\n",
        "                parent2 = select_parents(population, fitness)\n",
        "\n",
        "                # Perform crossover and mutation\n",
        "                child1, child2 = crossover(parent1, parent2)\n",
        "                child1 = mutate(child1)\n",
        "                child2 = mutate(child2)\n",
        "\n",
        "                # Add children to the new population\n",
        "                new_population.extend([child1, child2])\n",
        "\n",
        "            # Update the population\n",
        "            population = new_population\n",
        "            all_populations.append(population)\n",
        "\n",
        "            # Track the best individual in the current generation\n",
        "            best_individual = min(population, key=lambda individual: calculate_fitness(equation, individual))\n",
        "            log_entry = f\"Generation {generation}: Best individual = {best_individual}, best fitness = {calculate_fitness(equation, best_individual)}\"\n",
        "            logs.append(log_entry)  # Save log for the current generation\n",
        "\n",
        "    # Determine the best individual from the final population\n",
        "    best_individual = min(population, key=lambda individual: calculate_fitness(equation, individual))\n",
        "\n",
        "    # Plot the population evolution\n",
        "    fig = plot_populations(all_populations)\n",
        "    return best_individual, fig, \"\\n\".join(logs)\n",
        "\n",
        "\n"
      ],
      "metadata": {
        "id": "9WR4LGCcOafg"
      },
      "execution_count": null,
      "outputs": []
    },
    {
      "cell_type": "markdown",
      "source": [
        "**Representing the population of each generation using Matplotlib.**"
      ],
      "metadata": {
        "id": "_WTLjBVxTj5K"
      }
    },
    {
      "cell_type": "code",
      "source": [
        "def plot_populations(all_populations):\n",
        "    fig, ax = plt.subplots()\n",
        "    for i, population in enumerate(all_populations):\n",
        "        ax.scatter([i] * len(population), population, s=5)  # Draw individual in each generation\n",
        "    ax.set_xlabel(\"Thế hệ\")\n",
        "    ax.set_ylabel(\"Giá trị cá thể\")\n",
        "    ax.set_title(\"Biểu diễn các cá thể qua các thế hệ\")\n",
        "    return fig"
      ],
      "metadata": {
        "id": "9ejnBMoLVQ3N"
      },
      "execution_count": null,
      "outputs": []
    },
    {
      "cell_type": "markdown",
      "metadata": {
        "id": "8eqcus4YPCCb"
      },
      "source": [
        "**Launching the interface using Gradio.**"
      ]
    },
    {
      "cell_type": "code",
      "execution_count": null,
      "metadata": {
        "colab": {
          "base_uri": "https://localhost:8080/",
          "height": 625
        },
        "id": "kKYZ03fQPBS2",
        "outputId": "ef60a076-b60c-4946-dfff-5352ca8304e8"
      },
      "outputs": [
        {
          "output_type": "stream",
          "name": "stdout",
          "text": [
            "Running Gradio in a Colab notebook requires sharing enabled. Automatically setting `share=True` (you can turn this off by setting `share=False` in `launch()` explicitly).\n",
            "\n",
            "Colab notebook detected. To show errors in colab notebook, set debug=True in launch()\n",
            "* Running on public URL: https://51b744f2d354fc9589.gradio.live\n",
            "\n",
            "This share link expires in 72 hours. For free permanent hosting and GPU upgrades, run `gradio deploy` from the terminal in the working directory to deploy to Hugging Face Spaces (https://huggingface.co/spaces)\n"
          ]
        },
        {
          "output_type": "display_data",
          "data": {
            "text/plain": [
              "<IPython.core.display.HTML object>"
            ],
            "text/html": [
              "<div><iframe src=\"https://51b744f2d354fc9589.gradio.live\" width=\"100%\" height=\"500\" allow=\"autoplay; camera; microphone; clipboard-read; clipboard-write;\" frameborder=\"0\" allowfullscreen></iframe></div>"
            ]
          },
          "metadata": {}
        },
        {
          "output_type": "execute_result",
          "data": {
            "text/plain": []
          },
          "metadata": {},
          "execution_count": 10
        }
      ],
      "source": [
        "\n",
        "# Gradio interface\n",
        "with gr.Blocks() as demo:\n",
        "    with gr.Row():\n",
        "        equation = gr.Textbox(label=\"Nhập phương trình\", value=\"x^2-1=0\")\n",
        "        lower_bound = gr.Number(label=\"Giới hạn dưới\", value=-1)\n",
        "        upper_bound = gr.Number(label=\"Giới hạn trên\", value=1)\n",
        "\n",
        "    output_text = gr.Textbox(label=\"Cá thể tốt nhất\")\n",
        "    output_plot = gr.Plot(label=\"Biểu đồ các cá thể qua các thế hệ\")\n",
        "    output_logs = gr.Textbox(label=\"Nhật ký thế hệ\", lines=10, interactive=False)\n",
        "\n",
        "    btn = gr.Button(\"Chạy thuật toán\")\n",
        "    btn.click(\n",
        "        fn=genetic_algorithm_with_plot,\n",
        "        inputs=[equation, lower_bound, upper_bound],\n",
        "        outputs=[output_text, output_plot, output_logs]\n",
        "    )\n",
        "\n",
        "demo.launch()\n"
      ]
    }
  ],
  "metadata": {
    "colab": {
      "provenance": [],
      "gpuType": "T4",
      "authorship_tag": "ABX9TyOaU9NjI/pu8Is9x0V0/dnc",
      "include_colab_link": true
    },
    "kernelspec": {
      "display_name": "Python 3",
      "name": "python3"
    },
    "language_info": {
      "name": "python"
    },
    "accelerator": "GPU"
  },
  "nbformat": 4,
  "nbformat_minor": 0
}